{
 "cells": [
  {
   "cell_type": "code",
   "execution_count": 1,
   "metadata": {},
   "outputs": [
    {
     "name": "stdout",
     "output_type": "stream",
     "text": [
      "Connected to database: LysozomeInWater\n"
     ]
    }
   ],
   "source": [
    "import psycopg2\n",
    "from dotenv import load_dotenv\n",
    "import os\n",
    "\n",
    "# Load environment variables from .env file\n",
    "load_dotenv()\n",
    "\n",
    "# Access the POSTGRES_PWD variable\n",
    "POSTGRES_PWD = os.getenv('POSTGRES_PWD')\n",
    "\n",
    "# Connect to PostgreSQL server\n",
    "conn = psycopg2.connect(\n",
    "    host=\"localhost\",  # Update with your database host\n",
    "    database=\"LysozomeInWater\",\n",
    "    user=\"postgres\",\n",
    "    password=POSTGRES_PWD,\n",
    "    port='5433'\n",
    ")\n",
    "\n",
    "# Create a cursor object\n",
    "cur = conn.cursor()\n",
    "\n",
    "# Execute a simple query to verify connection\n",
    "cur.execute(\"SELECT current_database();\")\n",
    "db_name = cur.fetchone()\n",
    "print(f\"Connected to database: {db_name[0]}\")\n",
    "\n",
    "\n",
    "\n"
   ]
  },
  {
   "cell_type": "code",
   "execution_count": 2,
   "metadata": {},
   "outputs": [],
   "source": [
    "# Drop existing tables if they exist\n",
    "cur.execute(\"DROP TABLE IF EXISTS Trajectory\")\n",
    "cur.execute(\"DROP TABLE IF EXISTS Atoms\")\n",
    "\n",
    "# Create Atoms table\n",
    "create_atoms_table_query = \"\"\"\n",
    "CREATE TABLE Atoms (\n",
    "    AtomNum INTEGER PRIMARY KEY,\n",
    "    Atom VARCHAR(10),\n",
    "    ResidueGroup VARCHAR (10),\n",
    "    ResidueString VARCHAR(10)\n",
    ");\n",
    "\"\"\"\n",
    "\n",
    "# Create Trajectory table\n",
    "create_trajectory_table_query = \"\"\"\n",
    "CREATE TABLE Trajectory (\n",
    "    AtomNum INTEGER,\n",
    "    TimeFrame FLOAT,\n",
    "    x FLOAT,\n",
    "    y FLOAT,\n",
    "    z FLOAT,\n",
    "    PRIMARY KEY (AtomNum, TimeFrame),\n",
    "    FOREIGN KEY (AtomNum) REFERENCES Atoms(AtomNum)\n",
    ");\n",
    "\"\"\"\n",
    "\n",
    "# Execute the queries\n",
    "cur.execute(create_atoms_table_query)\n",
    "cur.execute(create_trajectory_table_query)\n",
    "conn.commit()\n"
   ]
  },
  {
   "cell_type": "code",
   "execution_count": 3,
   "metadata": {},
   "outputs": [],
   "source": [
    "# Parse trajectory file\n",
    "\n",
    "import re\n",
    "\n",
    "def parse_trajectory(file_path):\n",
    "    data = []\n",
    "    with open(file_path, 'r') as file:\n",
    "        lines = file.readlines()\n",
    "        time_frame = None\n",
    "\n",
    "        for line in lines:\n",
    "            # Skip lines with just the molecule count (e.g., \"1960\")\n",
    "            if line.strip().isdigit():\n",
    "                continue\n",
    "            # Skip lines with just the simulation box dimensions (e.g., 10.0 10.0 10.0)\n",
    "            elif re.match(r'^\\s*(\\d+\\.\\d+\\s*){3}$', line.strip()):\n",
    "                continue\n",
    "            # Extract time frame using regex\n",
    "            time_frame_match = re.search(r't=\\s*([\\d\\.]+)', line)\n",
    "            if time_frame_match:\n",
    "                time_frame = float(time_frame_match.group(1))\n",
    "            else:  # Atom data line\n",
    "                fields = line.split()\n",
    "                atom_number = int(fields[2])\n",
    "                atom = fields[1]\n",
    "                residue_goup = fields[0]\n",
    "                residue_string = re.sub(r'^\\d+', '', residue_goup)  # Remove leading digits\n",
    "                x, y, z = map(float, fields[3:])\n",
    "                data.append((atom_number, atom, residue_goup, residue_string, time_frame, x, y, z))\n",
    "    return data\n",
    "\n"
   ]
  },
  {
   "cell_type": "code",
   "execution_count": 4,
   "metadata": {},
   "outputs": [],
   "source": [
    "def insert_atoms(data, conn, cur):\n",
    "    insert_query = \"\"\"\n",
    "    INSERT INTO atoms (AtomNum, Atom, ResidueGroup, ResidueString)\n",
    "    VALUES (%s, %s, %s, %s)\n",
    "    ON CONFLICT (AtomNum) DO NOTHING;  -- Avoid duplicate entries\n",
    "    \"\"\"\n",
    "    cur.executemany(insert_query, data)\n",
    "    conn.commit()\n",
    "\n",
    "def insert_trajectory(data, conn, cur):\n",
    "    insert_query = \"\"\"\n",
    "    INSERT INTO trajectory (AtomNum, TimeFrame, x, y, z)\n",
    "    VALUES (%s, %s, %s, %s, %s)\n",
    "    ON CONFLICT (AtomNum, TimeFrame) DO NOTHING;  -- Avoid duplicate entries\n",
    "    \"\"\"\n",
    "    cur.executemany(insert_query, data)\n",
    "    conn.commit()\n"
   ]
  },
  {
   "cell_type": "code",
   "execution_count": null,
   "metadata": {},
   "outputs": [
    {
     "name": "stdout",
     "output_type": "stream",
     "text": [
      "/Users/vibhavlaud/Desktop/cs596/final_project\n"
     ]
    }
   ],
   "source": [
    "from pathlib import Path\n",
    "\n",
    "# Parse file and insert data\n",
    "filename = 'protein_output.txt'\n",
    "traj_filepath = Path.cwd() / filename\n",
    "data = parse_trajectory(file_path=traj_filepath)\n",
    "\n",
    "# Extract atom-specific data from total trajectory data\n",
    "atoms_data = [(AtomNum, Atom, ResidueGroup, ResidueString) for (AtomNum, Atom, ResidueGroup, ResidueString, *rest) in data]\n",
    "trajectory_data = [(AtomNum, TimeFrame, x, y, z) for (AtomNum, _, _, _, TimeFrame, x, y, z) in data]\n",
    "\n",
    "insert_atoms(atoms_data, conn, cur)\n",
    "insert_trajectory(trajectory_data, conn, cur)"
   ]
  },
  {
   "cell_type": "code",
   "execution_count": 6,
   "metadata": {},
   "outputs": [],
   "source": [
    "# Close the cursor and connection\n",
    "cur.close()\n",
    "conn.close()"
   ]
  },
  {
   "cell_type": "code",
   "execution_count": null,
   "metadata": {},
   "outputs": [],
   "source": []
  }
 ],
 "metadata": {
  "kernelspec": {
   "display_name": "596_venv",
   "language": "python",
   "name": "python3"
  },
  "language_info": {
   "codemirror_mode": {
    "name": "ipython",
    "version": 3
   },
   "file_extension": ".py",
   "mimetype": "text/x-python",
   "name": "python",
   "nbconvert_exporter": "python",
   "pygments_lexer": "ipython3",
   "version": "3.12.2"
  }
 },
 "nbformat": 4,
 "nbformat_minor": 2
}
